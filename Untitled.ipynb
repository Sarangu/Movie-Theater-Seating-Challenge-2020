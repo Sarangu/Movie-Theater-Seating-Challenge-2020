{
 "cells": [
  {
   "cell_type": "code",
   "execution_count": 1,
   "metadata": {},
   "outputs": [],
   "source": [
    "import argparse\n",
    "import pandas as pd\n",
    "import numpy as np"
   ]
  },
  {
   "cell_type": "code",
   "execution_count": 3,
   "metadata": {},
   "outputs": [
    {
     "ename": "OSError",
     "evalue": "[Errno 22] Invalid argument: \"'C:\\\\Users\\\\aishwarya\\\\OneDrive\\\\Desktop\\\\Walmart\\\\Sample_ip.txt'\"",
     "output_type": "error",
     "traceback": [
      "\u001b[1;31m---------------------------------------------------------------------------\u001b[0m",
      "\u001b[1;31mOSError\u001b[0m                                   Traceback (most recent call last)",
      "\u001b[1;32m~\\OneDrive\\Desktop\\Walmart\\Movie_Theatre.py\u001b[0m in \u001b[0;36m<module>\u001b[1;34m\u001b[0m\n\u001b[0;32m    114\u001b[0m \u001b[1;33m\u001b[0m\u001b[0m\n\u001b[0;32m    115\u001b[0m     \u001b[1;32mtry\u001b[0m\u001b[1;33m:\u001b[0m\u001b[1;33m\u001b[0m\u001b[1;33m\u001b[0m\u001b[0m\n\u001b[1;32m--> 116\u001b[1;33m         \u001b[0minput_file\u001b[0m \u001b[1;33m=\u001b[0m \u001b[0mopen\u001b[0m\u001b[1;33m(\u001b[0m\u001b[0margs\u001b[0m\u001b[1;33m.\u001b[0m\u001b[0minput\u001b[0m\u001b[1;33m,\u001b[0m \u001b[1;34m'r'\u001b[0m\u001b[1;33m)\u001b[0m\u001b[1;33m\u001b[0m\u001b[1;33m\u001b[0m\u001b[0m\n\u001b[0m\u001b[0;32m    117\u001b[0m         \u001b[0moutput_file\u001b[0m \u001b[1;33m=\u001b[0m \u001b[0mopen\u001b[0m\u001b[1;33m(\u001b[0m\u001b[1;34m'output.txt'\u001b[0m\u001b[1;33m,\u001b[0m \u001b[1;34m'w'\u001b[0m\u001b[1;33m)\u001b[0m\u001b[1;33m\u001b[0m\u001b[1;33m\u001b[0m\u001b[0m\n\u001b[0;32m    118\u001b[0m \u001b[1;33m\u001b[0m\u001b[0m\n",
      "\u001b[1;31mOSError\u001b[0m: [Errno 22] Invalid argument: \"'C:\\\\Users\\\\aishwarya\\\\OneDrive\\\\Desktop\\\\Walmart\\\\Sample_ip.txt'\""
     ]
    }
   ],
   "source": [
    "%run Movie_Theatre.py --input 'C:\\Users\\aishwarya\\OneDrive\\Desktop\\Walmart\\Sample_ip.txt'"
   ]
  },
  {
   "cell_type": "code",
   "execution_count": 3,
   "metadata": {},
   "outputs": [
    {
     "name": "stdout",
     "output_type": "stream",
     "text": [
      "3\n",
      "4\n",
      "5\n",
      "6\n",
      "7\n"
     ]
    }
   ],
   "source": [
    "a = [1,2,3,4,5]\n",
    "for i, v in enumerate(a):\n",
    "    i = i+3\n",
    "    print(i)"
   ]
  },
  {
   "cell_type": "code",
   "execution_count": null,
   "metadata": {},
   "outputs": [],
   "source": [
    "if __name__ == '__main__':\n",
    "    parser = argparse.ArgumentParser()\n",
    "    parser.add_argument('--input', dest='input', required=True,\n",
    "                        help='Full path to the input file')"
   ]
  },
  {
   "cell_type": "code",
   "execution_count": 4,
   "metadata": {},
   "outputs": [],
   "source": [
    "a = \"why\""
   ]
  },
  {
   "cell_type": "code",
   "execution_count": 5,
   "metadata": {},
   "outputs": [
    {
     "name": "stdout",
     "output_type": "stream",
     "text": [
      "Hellowhy\n"
     ]
    }
   ],
   "source": [
    "print(\"Hello\"+a)"
   ]
  },
  {
   "cell_type": "code",
   "execution_count": null,
   "metadata": {},
   "outputs": [],
   "source": [
    "args = parser.parse_args()\n",
    "reservation_request = pd.read_csv(args.input)"
   ]
  },
  {
   "cell_type": "code",
   "execution_count": 95,
   "metadata": {},
   "outputs": [],
   "source": [
    "reservation_request = pd.read_csv('.\\Sample_ip.txt', sep = ' ', header = None)\n",
    "reservation_request.columns = ['Rno', 'Seats']"
   ]
  },
  {
   "cell_type": "code",
   "execution_count": 100,
   "metadata": {},
   "outputs": [],
   "source": [
    "def fill(arr, num_seats, avail_seats):\n",
    "    filled_flag = 0\n",
    "    for i in range(len(arr)):\n",
    "        if 20-arr[i]-(num_seats+3) >= 0:\n",
    "            arr[i] += num_seats+3\n",
    "            avail_seats = avail_seats - (num_seats+3)\n",
    "            filled_flag = 1\n",
    "            return arr\n",
    "        if (num_seats > 17 and 20-arr[i] >= num_seats):\n",
    "            arr[i] = 20\n",
    "            avail_seats -= 20\n",
    "            filled_flag = 1\n",
    "            return arr\n",
    "    if (filled_flag == 0):\n",
    "        if num_seats > avail_seats:\n",
    "            print(\"Overflowing capacity, cannot fill!\")\n",
    "            return arr\n",
    "        else:\n",
    "            i = 0\n",
    "            while(arr[i] == 20):\n",
    "                i+=1\n",
    "            while(num_seats != 0):\n",
    "                temp = 20 - arr[i]\n",
    "                arr[i] = 20\n",
    "                num_seats -= temp\n",
    "                avail_seats-=temp\n",
    "                i = i+1\n",
    "    return arr"
   ]
  },
  {
   "cell_type": "code",
   "execution_count": 101,
   "metadata": {},
   "outputs": [
    {
     "name": "stdout",
     "output_type": "stream",
     "text": [
      "[5, 0, 0, 0, 0, 0, 0, 0, 0, 0]\n",
      "[12, 0, 0, 0, 0, 0, 0, 0, 0, 0]\n",
      "[19, 0, 0, 0, 0, 0, 0, 0, 0, 0]\n",
      "[19, 6, 0, 0, 0, 0, 0, 0, 0, 0]\n",
      "[19, 16, 0, 0, 0, 0, 0, 0, 0, 0]\n",
      "[19, 16, 8, 0, 0, 0, 0, 0, 0, 0]\n",
      "[19, 16, 8, 20, 0, 0, 0, 0, 0, 0]\n",
      "[19, 16, 8, 20, 15, 0, 0, 0, 0, 0]\n",
      "[19, 16, 13, 20, 15, 0, 0, 0, 0, 0]\n",
      "[19, 20, 13, 20, 15, 0, 0, 0, 0, 0]\n"
     ]
    }
   ],
   "source": [
    "movie_row = []\n",
    "avail_seats = 200\n",
    "for i in range(0, 10):\n",
    "    movie_row.append(0)\n",
    "    \n",
    "for index, row in reservation_request.iterrows():\n",
    "    if avail_seats == 0:\n",
    "        print(\"Seats full!\")\n",
    "        break\n",
    "    fill(movie_row, row['Seats'], avail_seats)\n",
    "    print(movie_row)\n",
    "    \n",
    "    \n",
    "    \n",
    "    \n",
    "# sorted_not_inserted_bookings = sorted(not_inserted, key=lambda k: not_inserted[k])\n",
    "\n",
    "# for res in sorted_not_inserted_bookings:\n",
    "#     if (Arrangement.seatsAvailable == 0):\n",
    "#         break\n",
    "#     elif (not_inserted[res] > Arrangement.seatsAvailable):\n",
    "#         continue\n",
    "#     else:\n",
    "#         Arrangement.split_insert(not_inserted[res], res)\n",
    "\n",
    "# Arrangement.writing_output(reservation_request,output)"
   ]
  }
 ],
 "metadata": {
  "kernelspec": {
   "display_name": "Python 3",
   "language": "python",
   "name": "python3"
  },
  "language_info": {
   "codemirror_mode": {
    "name": "ipython",
    "version": 3
   },
   "file_extension": ".py",
   "mimetype": "text/x-python",
   "name": "python",
   "nbconvert_exporter": "python",
   "pygments_lexer": "ipython3",
   "version": "3.8.5"
  }
 },
 "nbformat": 4,
 "nbformat_minor": 4
}
